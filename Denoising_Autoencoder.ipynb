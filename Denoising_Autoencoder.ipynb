{
 "cells": [
  {
   "cell_type": "markdown",
   "metadata": {},
   "source": [
    "# Denoising Autoencoder"
   ]
  },
  {
   "cell_type": "code",
   "execution_count": 1,
   "metadata": {},
   "outputs": [],
   "source": [
    "import torch\n",
    "import numpy as np\n",
    "from torchvision import datasets\n",
    "from torch.utils.data import DataLoader\n",
    "import torchvision.transforms as transforms"
   ]
  },
  {
   "cell_type": "code",
   "execution_count": 2,
   "metadata": {},
   "outputs": [],
   "source": [
    "device = torch.device('cuda' if torch.cuda.is_available() else 'cpu')"
   ]
  },
  {
   "cell_type": "code",
   "execution_count": 3,
   "metadata": {},
   "outputs": [
    {
     "name": "stdout",
     "output_type": "stream",
     "text": [
      "Using downloaded and verified file: data/MNIST/raw/train-images-idx3-ubyte.gz\n",
      "Extracting data/MNIST/raw/train-images-idx3-ubyte.gz to data/MNIST/raw\n",
      "Using downloaded and verified file: data/MNIST/raw/train-labels-idx1-ubyte.gz\n",
      "Extracting data/MNIST/raw/train-labels-idx1-ubyte.gz to data/MNIST/raw\n",
      "Using downloaded and verified file: data/MNIST/raw/t10k-images-idx3-ubyte.gz\n",
      "Extracting data/MNIST/raw/t10k-images-idx3-ubyte.gz to data/MNIST/raw\n",
      "Using downloaded and verified file: data/MNIST/raw/t10k-labels-idx1-ubyte.gz\n",
      "Extracting data/MNIST/raw/t10k-labels-idx1-ubyte.gz to data/MNIST/raw\n",
      "Processing...\n",
      "Done!\n"
     ]
    }
   ],
   "source": [
    "# convert data to torch.FloatTensor\n",
    "transform = transforms.ToTensor()\n",
    "\n",
    "# load the training and test datasets\n",
    "train_data = datasets.MNIST(root='data', train=True, download=True, transform=transform)\n",
    "test_data = datasets.MNIST(root='data', train=False, download=True, transform=transform)\n",
    "\n",
    "# how many samples per batch to load\n",
    "batch_size = 20\n",
    "\n",
    "# how many subprocesses to use for data loading\n",
    "num_workers = 1\n",
    "\n",
    "# prepare data loaders\n",
    "train_loader = DataLoader(train_data, batch_size=batch_size, num_workers=num_workers, pin_memory=True)\n",
    "test_loader = DataLoader(test_data, batch_size=batch_size, num_workers=num_workers)"
   ]
  },
  {
   "cell_type": "markdown",
   "metadata": {},
   "source": [
    "### Visualize the Data"
   ]
  },
  {
   "cell_type": "code",
   "execution_count": 4,
   "metadata": {},
   "outputs": [
    {
     "data": {
      "text/plain": [
       "<matplotlib.image.AxesImage at 0x7ff695a41320>"
      ]
     },
     "execution_count": 4,
     "metadata": {},
     "output_type": "execute_result"
    },
    {
     "data": {
      "image/png": "[encoded data removed]",
      "text/plain": [
       "<Figure size 360x360 with 1 Axes>"
      ]
     },
     "metadata": {
      "needs_background": "light"
     },
     "output_type": "display_data"
    }
   ],
   "source": [
    "import matplotlib.pyplot as plt\n",
    "%matplotlib inline\n",
    "    \n",
    "# obtain one batch of training images\n",
    "dataiter = iter(train_loader)\n",
    "images, labels = dataiter.next()\n",
    "images = images.numpy()\n",
    "\n",
    "# get one image from the batch\n",
    "img = np.squeeze(images[0])\n",
    "\n",
    "fig = plt.figure(figsize = (5,5)) \n",
    "ax = fig.add_subplot(111)\n",
    "ax.imshow(img, cmap='gray')"
   ]
  },
  {
   "cell_type": "markdown",
   "metadata": {},
   "source": [
    "### Adding noise"
   ]
  },
  {
   "cell_type": "code",
   "execution_count": 5,
   "metadata": {},
   "outputs": [
    {
     "data": {
      "text/plain": [
       "<matplotlib.image.AxesImage at 0x7ff69558b860>"
      ]
     },
     "execution_count": 5,
     "metadata": {},
     "output_type": "execute_result"
    },
    {
     "data": {
      "image/png": "[encoded data removed]",
      "text/plain": [
       "<Figure size 360x360 with 1 Axes>"
      ]
     },
     "metadata": {
      "needs_background": "light"
     },
     "output_type": "display_data"
    }
   ],
   "source": [
    "# for adding noise to images\n",
    "noise_factor=0.5\n",
    "\n",
    "# add random noise to the input images\n",
    "noisy_img = img + noise_factor * np.random.randn(*img.shape)\n",
    "\n",
    "# clip the images to be between 0 and 1\n",
    "noisy_img = np.clip(noisy_img, 0., 1.)\n",
    "\n",
    "fig = plt.figure(figsize = (5,5)) \n",
    "ax = fig.add_subplot(111)\n",
    "ax.imshow(noisy_img, cmap='gray')"
   ]
  },
  {
   "cell_type": "markdown",
   "metadata": {},
   "source": [
    "---\n",
    "# Denoising"
   ]
  },
  {
   "cell_type": "code",
   "execution_count": 6,
   "metadata": {},
   "outputs": [
    {
     "name": "stdout",
     "output_type": "stream",
     "text": [
      "ConvDenoiser(\n",
      "  (conv1): Conv2d(1, 32, kernel_size=(3, 3), stride=(1, 1), padding=(1, 1))\n",
      "  (conv2): Conv2d(32, 16, kernel_size=(3, 3), stride=(1, 1), padding=(1, 1))\n",
      "  (conv3): Conv2d(16, 8, kernel_size=(3, 3), stride=(1, 1), padding=(1, 1))\n",
      "  (pool): MaxPool2d(kernel_size=2, stride=2, padding=0, dilation=1, ceil_mode=False)\n",
      "  (t_conv1): ConvTranspose2d(8, 8, kernel_size=(3, 3), stride=(2, 2))\n",
      "  (t_conv2): ConvTranspose2d(8, 16, kernel_size=(2, 2), stride=(2, 2))\n",
      "  (t_conv3): ConvTranspose2d(16, 32, kernel_size=(2, 2), stride=(2, 2))\n",
      "  (conv_out): Conv2d(32, 1, kernel_size=(3, 3), stride=(1, 1), padding=(1, 1))\n",
      ")\n"
     ]
    }
   ],
   "source": [
    "import torch.nn as nn\n",
    "import torch.nn.functional as F\n",
    "\n",
    "# define the NN architecture\n",
    "class ConvDenoiser(nn.Module):\n",
    "    def __init__(self):\n",
    "        super(ConvDenoiser, self).__init__()\n",
    "        \n",
    "        ###########\n",
    "        # Encoder #\n",
    "        ###########\n",
    "        \n",
    "        # conv layer (depth from 1 --> 32), 3x3 kernels\n",
    "        self.conv1 = nn.Conv2d(1, 32, 3, padding=1)\\\n",
    "        \n",
    "        # conv layer (depth from 32 --> 16), 3x3 kernels\n",
    "        self.conv2 = nn.Conv2d(32, 16, 3, padding=1)\n",
    "        \n",
    "        # conv layer (depth from 16 --> 8), 3x3 kernels\n",
    "        self.conv3 = nn.Conv2d(16, 8, 3, padding=1)\n",
    "        \n",
    "        # pooling layer to reduce x-y dims by two; kernel and stride of 2\n",
    "        self.pool = nn.MaxPool2d(2, 2)\n",
    "        \n",
    "        \n",
    "        \n",
    "        ###########\n",
    "        # Decoder #\n",
    "        ###########\n",
    "        \n",
    "        # transpose layer, a kernel of 2 and a stride of 2 will increase the spatial dims by 2\n",
    "        self.t_conv1 = nn.ConvTranspose2d(8, 8, 3, stride=2)  # kernel_size=3 to get to a 7x7 image output\n",
    "        \n",
    "        # two more transpose layers with a kernel of 2\n",
    "        self.t_conv2 = nn.ConvTranspose2d(8, 16, 2, stride=2)\n",
    "        self.t_conv3 = nn.ConvTranspose2d(16, 32, 2, stride=2)\n",
    "        \n",
    "        # one final normal conv layer to decrease the depth\n",
    "        self.conv_out = nn.Conv2d(32, 1, 3, padding=1)\n",
    "        \n",
    "        \n",
    "        \n",
    "        self.to(device)\n",
    "\n",
    "\n",
    "    def forward(self, x):\n",
    "        \n",
    "        ############\n",
    "        # Encoding #\n",
    "        ############\n",
    "        \n",
    "        # add hidden layers with relu activation function\n",
    "        # and maxpooling after\n",
    "        x = F.relu(self.conv1(x))\n",
    "        x = self.pool(x)\n",
    "        \n",
    "        # add second hidden layer + pooling\n",
    "        x = F.relu(self.conv2(x))\n",
    "        x = self.pool(x)\n",
    "        \n",
    "        # add third hidden layer + pooling\n",
    "        x = F.relu(self.conv3(x))\n",
    "        x = self.pool(x)  # compressed representation\n",
    "        \n",
    "        \n",
    "        \n",
    "        ############\n",
    "        # Decoding #\n",
    "        ############\n",
    "        \n",
    "        # add transpose conv layers, with relu activation function\n",
    "        x = F.relu(self.t_conv1(x))\n",
    "        x = F.relu(self.t_conv2(x))\n",
    "        x = F.relu(self.t_conv3(x))\n",
    "        \n",
    "        # transpose again. Output should have a sigmoid applied\n",
    "        x = torch.sigmoid(self.conv_out(x))\n",
    "        \n",
    "        \n",
    "                \n",
    "        return x\n",
    "\n",
    "# initialize the NN\n",
    "model = ConvDenoiser()\n",
    "\n",
    "print(model)"
   ]
  },
  {
   "cell_type": "markdown",
   "metadata": {},
   "source": [
    "---\n",
    "## Training"
   ]
  },
  {
   "cell_type": "code",
   "execution_count": 7,
   "metadata": {},
   "outputs": [],
   "source": [
    "# specify loss function\n",
    "criterion = nn.MSELoss()\n",
    "\n",
    "# specify optimizer\n",
    "optimizer = torch.optim.Adam(model.parameters(), lr=0.001)"
   ]
  },
  {
   "cell_type": "code",
   "execution_count": 8,
   "metadata": {},
   "outputs": [
    {
     "name": "stdout",
     "output_type": "stream",
     "text": [
      "Epoch: 1 \tTraining Loss: 0.947280\n",
      "Epoch: 2 \tTraining Loss: 0.571630\n",
      "Epoch: 3 \tTraining Loss: 0.512487\n",
      "Epoch: 4 \tTraining Loss: 0.486350\n",
      "Epoch: 5 \tTraining Loss: 0.470357\n",
      "Epoch: 6 \tTraining Loss: 0.460028\n",
      "Epoch: 7 \tTraining Loss: 0.452405\n",
      "Epoch: 8 \tTraining Loss: 0.445431\n",
      "Epoch: 9 \tTraining Loss: 0.440427\n",
      "Epoch: 10 \tTraining Loss: 0.434018\n",
      "Epoch: 11 \tTraining Loss: 0.428891\n",
      "Epoch: 12 \tTraining Loss: 0.424503\n",
      "Epoch: 13 \tTraining Loss: 0.421113\n",
      "Epoch: 14 \tTraining Loss: 0.416667\n",
      "Epoch: 15 \tTraining Loss: 0.412977\n",
      "Epoch: 16 \tTraining Loss: 0.409181\n",
      "Epoch: 17 \tTraining Loss: 0.405516\n",
      "Epoch: 18 \tTraining Loss: 0.400078\n",
      "Epoch: 19 \tTraining Loss: 0.392771\n",
      "Epoch: 20 \tTraining Loss: 0.385897\n",
      "Epoch: 21 \tTraining Loss: 0.382228\n",
      "Epoch: 22 \tTraining Loss: 0.378411\n",
      "Epoch: 23 \tTraining Loss: 0.375897\n",
      "Epoch: 24 \tTraining Loss: 0.373178\n",
      "Epoch: 25 \tTraining Loss: 0.371317\n",
      "Epoch: 26 \tTraining Loss: 0.369027\n",
      "Epoch: 27 \tTraining Loss: 0.367820\n",
      "Epoch: 28 \tTraining Loss: 0.365660\n",
      "Epoch: 29 \tTraining Loss: 0.364550\n",
      "Epoch: 30 \tTraining Loss: 0.363430\n",
      "Epoch: 31 \tTraining Loss: 0.362407\n",
      "Epoch: 32 \tTraining Loss: 0.360827\n",
      "Epoch: 33 \tTraining Loss: 0.359341\n",
      "Epoch: 34 \tTraining Loss: 0.358704\n",
      "Epoch: 35 \tTraining Loss: 0.357368\n",
      "Epoch: 36 \tTraining Loss: 0.356395\n",
      "Epoch: 37 \tTraining Loss: 0.354959\n",
      "Epoch: 38 \tTraining Loss: 0.353264\n",
      "Epoch: 39 \tTraining Loss: 0.352178\n",
      "Epoch: 40 \tTraining Loss: 0.351311\n",
      "Epoch: 41 \tTraining Loss: 0.350379\n",
      "Epoch: 42 \tTraining Loss: 0.349295\n",
      "Epoch: 43 \tTraining Loss: 0.348660\n",
      "Epoch: 44 \tTraining Loss: 0.347732\n",
      "Epoch: 45 \tTraining Loss: 0.346655\n",
      "Epoch: 46 \tTraining Loss: 0.345334\n",
      "Epoch: 47 \tTraining Loss: 0.345209\n",
      "Epoch: 48 \tTraining Loss: 0.344092\n",
      "Epoch: 49 \tTraining Loss: 0.343668\n",
      "Epoch: 50 \tTraining Loss: 0.343161\n",
      "Epoch: 51 \tTraining Loss: 0.342516\n",
      "Epoch: 52 \tTraining Loss: 0.341660\n",
      "Epoch: 53 \tTraining Loss: 0.340895\n",
      "Epoch: 54 \tTraining Loss: 0.341020\n",
      "Epoch: 55 \tTraining Loss: 0.340084\n",
      "Epoch: 56 \tTraining Loss: 0.339725\n",
      "Epoch: 57 \tTraining Loss: 0.339619\n",
      "Epoch: 58 \tTraining Loss: 0.339393\n",
      "Epoch: 59 \tTraining Loss: 0.339478\n",
      "Epoch: 60 \tTraining Loss: 0.338452\n",
      "Epoch: 61 \tTraining Loss: 0.338988\n",
      "Epoch: 62 \tTraining Loss: 0.338064\n",
      "Epoch: 63 \tTraining Loss: 0.338015\n",
      "Epoch: 64 \tTraining Loss: 0.337491\n",
      "Epoch: 65 \tTraining Loss: 0.337046\n",
      "Epoch: 66 \tTraining Loss: 0.336958\n",
      "Epoch: 67 \tTraining Loss: 0.336588\n",
      "Epoch: 68 \tTraining Loss: 0.336138\n",
      "Epoch: 69 \tTraining Loss: 0.335845\n",
      "Epoch: 70 \tTraining Loss: 0.335618\n",
      "Epoch: 71 \tTraining Loss: 0.335919\n",
      "Epoch: 72 \tTraining Loss: 0.335349\n",
      "Epoch: 73 \tTraining Loss: 0.334360\n",
      "Epoch: 74 \tTraining Loss: 0.334643\n",
      "Epoch: 75 \tTraining Loss: 0.334906\n",
      "Epoch: 76 \tTraining Loss: 0.334170\n",
      "Epoch: 77 \tTraining Loss: 0.334484\n",
      "Epoch: 78 \tTraining Loss: 0.333768\n",
      "Epoch: 79 \tTraining Loss: 0.333971\n",
      "Epoch: 80 \tTraining Loss: 0.333729\n",
      "Epoch: 81 \tTraining Loss: 0.333658\n",
      "Epoch: 82 \tTraining Loss: 0.333588\n",
      "Epoch: 83 \tTraining Loss: 0.333535\n",
      "Epoch: 84 \tTraining Loss: 0.332698\n",
      "Epoch: 85 \tTraining Loss: 0.332649\n",
      "Epoch: 86 \tTraining Loss: 0.332191\n",
      "Epoch: 87 \tTraining Loss: 0.332258\n",
      "Epoch: 88 \tTraining Loss: 0.331808\n",
      "Epoch: 89 \tTraining Loss: 0.332160\n",
      "Epoch: 90 \tTraining Loss: 0.331253\n",
      "Epoch: 91 \tTraining Loss: 0.331449\n",
      "Epoch: 92 \tTraining Loss: 0.330819\n",
      "Epoch: 93 \tTraining Loss: 0.330939\n",
      "Epoch: 94 \tTraining Loss: 0.330741\n",
      "Epoch: 95 \tTraining Loss: 0.330338\n",
      "Epoch: 96 \tTraining Loss: 0.330596\n",
      "Epoch: 97 \tTraining Loss: 0.329770\n",
      "Epoch: 98 \tTraining Loss: 0.330294\n",
      "Epoch: 99 \tTraining Loss: 0.329591\n",
      "Epoch: 100 \tTraining Loss: 0.329469\n",
      "Epoch: 101 \tTraining Loss: 0.330124\n",
      "Epoch: 102 \tTraining Loss: 0.329368\n",
      "Epoch: 103 \tTraining Loss: 0.329738\n",
      "Epoch: 104 \tTraining Loss: 0.328940\n",
      "Epoch: 105 \tTraining Loss: 0.328737\n",
      "Epoch: 106 \tTraining Loss: 0.329217\n",
      "Epoch: 107 \tTraining Loss: 0.328467\n",
      "Epoch: 108 \tTraining Loss: 0.328783\n",
      "Epoch: 109 \tTraining Loss: 0.328765\n",
      "Epoch: 110 \tTraining Loss: 0.328020\n",
      "Epoch: 111 \tTraining Loss: 0.328256\n",
      "Epoch: 112 \tTraining Loss: 0.328415\n",
      "Epoch: 113 \tTraining Loss: 0.327960\n",
      "Epoch: 114 \tTraining Loss: 0.328115\n",
      "Epoch: 115 \tTraining Loss: 0.327060\n",
      "Epoch: 116 \tTraining Loss: 0.327666\n",
      "Epoch: 117 \tTraining Loss: 0.327979\n",
      "Epoch: 118 \tTraining Loss: 0.327057\n",
      "Epoch: 119 \tTraining Loss: 0.326988\n",
      "Epoch: 120 \tTraining Loss: 0.327372\n",
      "Epoch: 121 \tTraining Loss: 0.326876\n",
      "Epoch: 122 \tTraining Loss: 0.326969\n",
      "Epoch: 123 \tTraining Loss: 0.326722\n",
      "Epoch: 124 \tTraining Loss: 0.327002\n",
      "Epoch: 125 \tTraining Loss: 0.326354\n",
      "Epoch: 126 \tTraining Loss: 0.326240\n",
      "Epoch: 127 \tTraining Loss: 0.325899\n",
      "Epoch: 128 \tTraining Loss: 0.326866\n",
      "Epoch: 129 \tTraining Loss: 0.326727\n",
      "Epoch: 130 \tTraining Loss: 0.326609\n",
      "Epoch: 131 \tTraining Loss: 0.326344\n",
      "Epoch: 132 \tTraining Loss: 0.326340\n",
      "Epoch: 133 \tTraining Loss: 0.326645\n",
      "Epoch: 134 \tTraining Loss: 0.325814\n",
      "Epoch: 135 \tTraining Loss: 0.326204\n",
      "Epoch: 136 \tTraining Loss: 0.326150\n",
      "Epoch: 137 \tTraining Loss: 0.325628\n",
      "Epoch: 138 \tTraining Loss: 0.325802\n",
      "Epoch: 139 \tTraining Loss: 0.325932\n",
      "Epoch: 140 \tTraining Loss: 0.325647\n",
      "Epoch: 141 \tTraining Loss: 0.325555\n",
      "Epoch: 142 \tTraining Loss: 0.325261\n",
      "Epoch: 143 \tTraining Loss: 0.325986\n",
      "Epoch: 144 \tTraining Loss: 0.325516\n",
      "Epoch: 145 \tTraining Loss: 0.324991\n",
      "Epoch: 146 \tTraining Loss: 0.325600\n",
      "Epoch: 147 \tTraining Loss: 0.324870\n",
      "Epoch: 148 \tTraining Loss: 0.325186\n",
      "Epoch: 149 \tTraining Loss: 0.325347\n",
      "Epoch: 150 \tTraining Loss: 0.325447\n",
      "Epoch: 151 \tTraining Loss: 0.325009\n",
      "Epoch: 152 \tTraining Loss: 0.324717\n",
      "Epoch: 153 \tTraining Loss: 0.324722\n",
      "Epoch: 154 \tTraining Loss: 0.325038\n",
      "Epoch: 155 \tTraining Loss: 0.324873\n",
      "Epoch: 156 \tTraining Loss: 0.324530\n",
      "Epoch: 157 \tTraining Loss: 0.323292\n",
      "Epoch: 158 \tTraining Loss: 0.324569\n",
      "Epoch: 159 \tTraining Loss: 0.325006\n",
      "Epoch: 160 \tTraining Loss: 0.324583\n",
      "Epoch: 161 \tTraining Loss: 0.323937\n",
      "Epoch: 162 \tTraining Loss: 0.324168\n",
      "Epoch: 163 \tTraining Loss: 0.324760\n",
      "Epoch: 164 \tTraining Loss: 0.323607\n",
      "Epoch: 165 \tTraining Loss: 0.324336\n",
      "Epoch: 166 \tTraining Loss: 0.324084\n",
      "Epoch: 167 \tTraining Loss: 0.323868\n",
      "Epoch: 168 \tTraining Loss: 0.323707\n",
      "Epoch: 169 \tTraining Loss: 0.323775\n",
      "Epoch: 170 \tTraining Loss: 0.323861\n",
      "Epoch: 171 \tTraining Loss: 0.323551\n",
      "Epoch: 172 \tTraining Loss: 0.323105\n",
      "Epoch: 173 \tTraining Loss: 0.323795\n",
      "Epoch: 174 \tTraining Loss: 0.322935\n",
      "Epoch: 175 \tTraining Loss: 0.323678\n",
      "Epoch: 176 \tTraining Loss: 0.323411\n",
      "Epoch: 177 \tTraining Loss: 0.323197\n",
      "Epoch: 178 \tTraining Loss: 0.323379\n",
      "Epoch: 179 \tTraining Loss: 0.322734\n",
      "Epoch: 180 \tTraining Loss: 0.323091\n",
      "Epoch: 181 \tTraining Loss: 0.323233\n",
      "Epoch: 182 \tTraining Loss: 0.322540\n",
      "Epoch: 183 \tTraining Loss: 0.322689\n",
      "Epoch: 184 \tTraining Loss: 0.322569\n",
      "Epoch: 185 \tTraining Loss: 0.323008\n",
      "Epoch: 186 \tTraining Loss: 0.322601\n",
      "Epoch: 187 \tTraining Loss: 0.322470\n",
      "Epoch: 188 \tTraining Loss: 0.322795\n",
      "Epoch: 189 \tTraining Loss: 0.322399\n",
      "Epoch: 190 \tTraining Loss: 0.322380\n",
      "Epoch: 191 \tTraining Loss: 0.322729\n",
      "Epoch: 192 \tTraining Loss: 0.322845\n",
      "Epoch: 193 \tTraining Loss: 0.322629\n",
      "Epoch: 194 \tTraining Loss: 0.322356\n",
      "Epoch: 195 \tTraining Loss: 0.322392\n",
      "Epoch: 196 \tTraining Loss: 0.322579\n",
      "Epoch: 197 \tTraining Loss: 0.321907\n",
      "Epoch: 198 \tTraining Loss: 0.322114\n",
      "Epoch: 199 \tTraining Loss: 0.322091\n",
      "Epoch: 200 \tTraining Loss: 0.322321\n"
     ]
    }
   ],
   "source": [
    "# number of epochs to train the model\n",
    "n_epochs = 200\n",
    "\n",
    "for epoch in range(1, n_epochs+1):\n",
    "    # monitor training loss\n",
    "    train_loss = 0.0\n",
    "    \n",
    "    ###################\n",
    "    # train the model #\n",
    "    ###################\n",
    "    \n",
    "    for data in train_loader:\n",
    "        images, _ = data\n",
    "        \n",
    "        # add random noise to the input images\n",
    "        noisy_imgs = images + noise_factor * torch.randn(*images.shape)\n",
    "        \n",
    "        # clip the images to be between 0 and 1\n",
    "        noisy_imgs = np.clip(noisy_imgs, 0., 1.)\n",
    "                \n",
    "        # clear the gradients of all optimized variables\n",
    "        optimizer.zero_grad()\n",
    "        \n",
    "        # forward pass: compute predicted outputs by passing *noisy* images to the model\n",
    "        outputs = model(noisy_imgs.to(device))\n",
    "        \n",
    "        # calculate the loss\n",
    "        # the \"target\" is still the original, not-noisy images\n",
    "        loss = criterion(outputs, images.to(device))\n",
    "        \n",
    "        # backward pass: compute gradient of the loss with respect to model parameters\n",
    "        loss.backward()\n",
    "        \n",
    "        # perform a single optimization step (parameter update)\n",
    "        optimizer.step()\n",
    "        \n",
    "        # update running training loss\n",
    "        train_loss += loss.item()*images.size(0)\n",
    "            \n",
    "    # print avg training statistics \n",
    "    train_loss = train_loss/len(train_loader)\n",
    "    print('Epoch: {} \\tTraining Loss: {:.6f}'.format(epoch, train_loss))"
   ]
  },
  {
   "cell_type": "markdown",
   "metadata": {},
   "source": [
    "## Checking out the results"
   ]
  },
  {
   "cell_type": "code",
   "execution_count": 9,
   "metadata": {},
   "outputs": [
    {
     "data": {
      "image/png": "[encoded data removed]",
      "text/plain": [
       "<Figure size 1800x288 with 20 Axes>"
      ]
     },
     "metadata": {
      "needs_background": "light"
     },
     "output_type": "display_data"
    }
   ],
   "source": [
    "# obtain one batch of test images\n",
    "dataiter = iter(test_loader)\n",
    "images, labels = dataiter.next()\n",
    "\n",
    "# add noise to the test images\n",
    "noisy_imgs = images + noise_factor * torch.randn(*images.shape)\n",
    "noisy_imgs = np.clip(noisy_imgs, 0., 1.)\n",
    "\n",
    "# get sample outputs\n",
    "output = model(noisy_imgs.to(device))\n",
    "\n",
    "# prep images for display\n",
    "noisy_imgs = noisy_imgs.cpu().numpy()\n",
    "\n",
    "# output is resized into a batch of iages\n",
    "output = output.view(batch_size, 1, 28, 28)\n",
    "\n",
    "# use detach when it's an output that requires_grad\n",
    "output = output.detach().cpu().numpy()\n",
    "\n",
    "# plot the first ten input images and then reconstructed images\n",
    "fig, axes = plt.subplots(nrows=2, ncols=10, sharex=True, sharey=True, figsize=(25,4))\n",
    "\n",
    "# input images on top row, reconstructions on bottom\n",
    "for noisy_imgs, row in zip([noisy_imgs, output], axes):\n",
    "    for img, ax in zip(noisy_imgs, row):\n",
    "        ax.imshow(np.squeeze(img), cmap='gray')\n",
    "        ax.get_xaxis().set_visible(False)\n",
    "        ax.get_yaxis().set_visible(False)"
   ]
  },
  {
   "cell_type": "code",
   "execution_count": null,
   "metadata": {},
   "outputs": [],
   "source": []
  }
 ],
 "metadata": {
  "kernelspec": {
   "display_name": "Python 3",
   "language": "python",
   "name": "python3"
  },
  "language_info": {
   "codemirror_mode": {
    "name": "ipython",
    "version": 3
   },
   "file_extension": ".py",
   "mimetype": "text/x-python",
   "name": "python",
   "nbconvert_exporter": "python",
   "pygments_lexer": "ipython3",
   "version": "3.6.8"
  }
 },
 "nbformat": 4,
 "nbformat_minor": 4
}
